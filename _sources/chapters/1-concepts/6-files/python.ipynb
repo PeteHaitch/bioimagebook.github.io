{
 "cells": [
  {
   "cell_type": "markdown",
   "id": "ad330f22",
   "metadata": {},
   "source": [
    "# Python: Files & file formats\n",
    "\n",
    "When it comes to working with images in Python, there are various important packages.\n",
    "You might only need to use one - but it helps to know about the existence of the others.\n",
    "\n",
    "> To avoid adding lots of extra dependencies to this book, not all the packages are installed here."
   ]
  },
  {
   "cell_type": "code",
   "execution_count": 1,
   "id": "d3165fd2",
   "metadata": {},
   "outputs": [],
   "source": [
    "# First, our usual default imports\n",
    "import sys\n",
    "sys.path.append('../../../')\n",
    "\n",
    "from helpers import *\n",
    "import matplotlib.pyplot as plt\n",
    "import numpy as np"
   ]
  },
  {
   "cell_type": "markdown",
   "id": "d889f02d",
   "metadata": {},
   "source": [
    "## Useful Python packages"
   ]
  },
  {
   "cell_type": "markdown",
   "id": "b4b964d5",
   "metadata": {},
   "source": [
    "### Pillow\n",
    "\n",
    "[Pillow's authors describe it as 'the friendly PIL fork'](https://pillow.readthedocs.io/en/stable/), where **PIL** is the *Python Imaging Library*.\n",
    "\n",
    "It is indeed *quite* friendly, and it does much more than just reading and writing images - even supporting features to draw onto images.\n",
    "\n",
    "The main disadvantage of Pillow is that it doesn't work directly with NumPy arrays.\n",
    "Therefore, if it's a NumPy array that you want then you'll need to add in a few extra lines of code to convert the images."
   ]
  },
  {
   "cell_type": "code",
   "execution_count": 2,
   "id": "082422b4",
   "metadata": {},
   "outputs": [
    {
     "name": "stdout",
     "output_type": "stream",
     "text": [
      "I don't have a simple NumPy array - instead I have this:\n",
      "  <PIL.TiffImagePlugin.TiffImageFile image mode=F size=250x240 at 0x7FC6CB41B010>\n",
      "\n",
      "But I can convert it to an NumPy array if I need to:\n",
      "[[2. 2. 2. ... 2. 2. 2.]\n",
      " [2. 2. 2. ... 2. 2. 2.]\n",
      " [2. 2. 2. ... 2. 2. 2.]\n",
      " ...\n",
      " [2. 2. 2. ... 2. 2. 2.]\n",
      " [2. 2. 2. ... 2. 2. 2.]\n",
      " [2. 2. 2. ... 2. 2. 2.]]\n",
      "Print the mean for comparison: 23.03144645690918\n"
     ]
    },
    {
     "data": {
      "image/png": "[encoded data removed]",
      "text/plain": [
       "<Figure size 432x288 with 1 Axes>"
      ]
     },
     "metadata": {
      "filenames": {
       "image/png": "/home/runner/work/bioimagebook.github.io/bioimagebook.github.io/_build/jupyter_execute/chapters/1-concepts/6-files/python_4_1.png"
      },
      "needs_background": "light"
     },
     "output_type": "display_data"
    }
   ],
   "source": [
    "# Get an image path\n",
    "path = find_image('happy_cell.tif')[0]\n",
    "\n",
    "# Read an image and convert to a NumPy array\n",
    "from PIL import Image\n",
    "with open(path, 'rb') as f:\n",
    "    image = Image.open(f)\n",
    "    im = np.asarray(image)\n",
    "\n",
    "print(f'I don\\'t have a simple NumPy array - instead I have this:\\n  {image}')\n",
    "print(f'\\nBut I can convert it to an NumPy array if I need to:\\n{im}')\n",
    "\n",
    "print(f'Print the mean for comparison: {im.mean()}')\n",
    "\n",
    "plt.imshow(image)\n",
    "plt.axis(False)\n",
    "plt.title('Read with Pillow')\n",
    "plt.show()"
   ]
  },
  {
   "cell_type": "markdown",
   "id": "9505e61f",
   "metadata": {},
   "source": [
    "### ImageIO\n",
    "\n",
    "[imageio](https://imageio.readthedocs.io/en/stable/) is my preferred Python package for most straightforward image reading - and the main one I've used in this book.\n",
    "\n",
    "It's also the [recommended alternative to *SciPy*'s deprecated `imread` function](https://docs.scipy.org/doc/scipy-1.1.0/reference/generated/scipy.misc.imread.html#scipy.misc.imread).\n",
    "\n",
    "`imageio.imread(path)` returns a NumPy array automatically.\n",
    "This makes it easy to use for straightforward things, especially when working with 2D images (single-channel or RGB).\n",
    "\n",
    "imageio can use different backends, which includes [Pillow](https://imageio.readthedocs.io/en/stable/_autosummary/imageio.plugins.pillow.html) and [tifffile](https://imageio.readthedocs.io/en/stable/_autosummary/imageio.plugins.tifffile.html) - so you can potentially get the advantages of both through using imageio, while writing less code yourself."
   ]
  },
  {
   "cell_type": "code",
   "execution_count": 3,
   "id": "6a69553d",
   "metadata": {},
   "outputs": [
    {
     "name": "stdout",
     "output_type": "stream",
     "text": [
      "Print the mean for comparison: 23.03144645690918\n"
     ]
    }
   ],
   "source": [
    "from imageio import imread\n",
    "\n",
    "# Just one line!\n",
    "im = imread(path)\n",
    "\n",
    "print(f'Print the mean for comparison: {im.mean()}')"
   ]
  },
  {
   "cell_type": "markdown",
   "id": "adb9e2ef",
   "metadata": {},
   "source": [
    "### tifffile\n",
    "\n",
    "[tifffile](https://pypi.org/project/tifffile/) is a small package[^fn_tf] that is very handy if you need to get into the details of reading and writing TIFF images.\n",
    "\n",
    "[^fn_tf]: Small in that its code is mostly just one file. But it's [a pretty epic file](https://github.com/cgohlke/tifffile/blob/master/tifffile/tifffile.py)."
   ]
  },
  {
   "cell_type": "code",
   "execution_count": 4,
   "id": "ceae4cbe",
   "metadata": {},
   "outputs": [
    {
     "name": "stdout",
     "output_type": "stream",
     "text": [
      "Print the mean for comparison: 23.03144645690918\n"
     ]
    }
   ],
   "source": [
    "import tifffile\n",
    "\n",
    "im = tifffile.imread(path)\n",
    "\n",
    "print(f'Print the mean for comparison: {im.mean()}')"
   ]
  },
  {
   "cell_type": "markdown",
   "id": "c642512b",
   "metadata": {},
   "source": [
    "### AICSImageIO\n",
    "\n",
    "[AICSImageIO](https://github.com/AllenCellModeling/aicsimageio) looks to be an excellent package for reading lots of image formats in Python - and is particularly strong when it comes to reading multidimensional images and metadata.\n",
    "\n",
    "It can even handle a variety of microscopy formats, and optionally use [Bio-Formats](https://www.openmicroscopy.org/bio-formats/)."
   ]
  },
  {
   "cell_type": "markdown",
   "id": "0aeb8ed4",
   "metadata": {},
   "source": [
    "### OpenSlide\n",
    "\n",
    "[OpenSlide](https://openslide.org) is widely used in the world of digital pathology.\n",
    "It's limited to 2D RGB data, but its big benefit is that it supports a range of pyramidal whole slide images."
   ]
  },
  {
   "cell_type": "markdown",
   "id": "88686258",
   "metadata": {},
   "source": [
    "### Dask\n",
    "\n",
    "[Dask](https://dask.org) is a project you should know about if you're working with big datasets in Python.\n",
    "\n",
    "Dask isn't an image reading package, but [dask-image](https://image.dask.org/) includes an `imread` function that can be used if you know you want your image to be in a dask array in the end."
   ]
  },
  {
   "cell_type": "markdown",
   "id": "3aaaf5f2",
   "metadata": {},
   "source": [
    "### Napari\n",
    "\n",
    "Finally, [Napari](https://napari.org) isn't an image reading library either; rather, it's a fantastic open-source, extensible, multidimensional image viewer for Python.\n",
    "\n",
    "Napari can bring everything together - working with dask arrays and reading images with plugins, such as [napari-aicsimageio](https://github.com/AllenCellModeling/napari-aicsimageio) and [napari-lazy-openslide](https://github.com/manzt/napari-lazy-openslide)."
   ]
  }
 ],
 "metadata": {
  "jupytext": {
   "formats": "md:myst",
   "text_representation": {
    "extension": ".md",
    "format_name": "myst",
    "format_version": 0.13,
    "jupytext_version": "1.13.8"
   }
  },
  "kernelspec": {
   "display_name": "Python 3 (ipykernel)",
   "language": "python",
   "name": "python3"
  },
  "language_info": {
   "codemirror_mode": {
    "name": "ipython",
    "version": 3
   },
   "file_extension": ".py",
   "mimetype": "text/x-python",
   "name": "python",
   "nbconvert_exporter": "python",
   "pygments_lexer": "ipython3",
   "version": "3.10.4"
  },
  "source_map": [
   13,
   22,
   30,
   34,
   45,
   64,
   77,
   84,
   92,
   98,
   106,
   113,
   121
  ]
 },
 "nbformat": 4,
 "nbformat_minor": 5
}