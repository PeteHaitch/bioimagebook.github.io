{
 "cells": [
  {
   "cell_type": "markdown",
   "metadata": {},
   "source": [
    "## Illustrate photon noise\n",
    "\n",
    "Generate a video illustrating the impact of photon noise on a simulated image.\n",
    "\n",
    "Note: This script is slow to run."
   ]
  },
  {
   "cell_type": "code",
   "execution_count": null,
   "metadata": {},
   "outputs": [],
   "source": [
    "# Default import\n",
    "import sys\n",
    "sys.path.append('../')\n",
    "from helpers import create_figure, show_image, glue_fig, load_image\n",
    "\n",
    "import numpy as np"
   ]
  },
  {
   "cell_type": "code",
   "execution_count": null,
   "metadata": {},
   "outputs": [],
   "source": [
    "import matplotlib.pyplot as plt\n",
    "from matplotlib.animation import *\n",
    "\n",
    "fig, (ax_im, ax_hist, ax_snr) = plt.subplots(1, 3, figsize=(12, 4), dpi=200)\n",
    "    \n",
    "seed = 1012\n",
    "rand = np.random.default_rng(seed=seed)\n",
    "\n",
    "im = load_image('happy_cell.tif')\n",
    "im = im.astype(np.float32)\n",
    "im = im / np.percentile(im, 99)\n",
    "im = np.maximum(im, 0.3) # Want a non-zero background\n",
    "mean = im.mean()\n",
    "\n",
    "im_output = np.zeros(im.shape, dtype=im.dtype)\n",
    "\n",
    "fps = 5\n",
    "writer = FFMpegWriter(fps=fps)\n",
    "name = '../_static/videos/photon_noise.mp4'\n",
    "\n",
    "# writer = HTMLWriter(fps=fps)\n",
    "# name = 'myfile.html'\n",
    "\n",
    "# writer = PillowWriter(fps=fps)\n",
    "# name = 'myfile.gif'\n",
    "\n",
    "max_time = 1000\n",
    "n = 51\n",
    "rate = max_time / n / 10\n",
    "\n",
    "with writer.saving(fig, name, dpi=200):\n",
    "    time = np.linspace(0, 1000, n)\n",
    "    for ii, t in enumerate(time):\n",
    "        if ii > 0:\n",
    "            # Don't add for the first entry\n",
    "            im_output += rand.poisson(im * rate)\n",
    "        \n",
    "        m = np.percentile(im_output, 95)\n",
    "        ax_im.clear()\n",
    "        ax_im.imshow(im_output, vmin=0, vmax=m, animated=True, cmap='gray')\n",
    "        ax_im.text(10, 20, f'{round(t)} ms', color=(1,1,1), fontdict={'size': 14})\n",
    "        ax_im.set_axis_off()\n",
    "\n",
    "        ax_hist.clear()\n",
    "        hist_max = int(np.ceil(mean * n * rate * 4))\n",
    "        ax_hist.hist(im_output.flatten(), bins=hist_max, density=True, range=(0, hist_max))\n",
    "        ax_hist.set_xlim(0, hist_max)\n",
    "        ax_hist.set_xlabel('Pixel value')\n",
    "        ax_hist.set_ylabel('Frequency')\n",
    "        \n",
    "        ax_snr.clear()\n",
    "        ax_snr.plot(time[:ii], np.sqrt(time[:ii]), scalex=False, scaley=False)\n",
    "        ax_snr.set_xlim(0, max_time)\n",
    "        ax_snr.set_ylim(0, np.ceil(np.sqrt(max_time)))\n",
    "        ax_snr.set_xlabel('Time (ms)')\n",
    "        ax_snr.set_ylabel('SNR')\n",
    "        ax_snr.set_yticks([]) # Since this is an illustration & we haven't tried to quantify SNR any more exactly\n",
    "\n",
    "        if ii == 0:\n",
    "            plt.tight_layout()\n",
    "            plt.subplots_adjust(wspace=0.3)\n",
    "        \n",
    "        writer.grab_frame()"
   ]
  },
  {
   "cell_type": "code",
   "execution_count": null,
   "metadata": {},
   "outputs": [],
   "source": []
  },
  {
   "cell_type": "code",
   "execution_count": null,
   "metadata": {},
   "outputs": [],
   "source": []
  }
 ],
 "metadata": {
  "kernelspec": {
   "display_name": "Python 3",
   "language": "python",
   "name": "python3"
  },
  "language_info": {
   "codemirror_mode": {
    "name": "ipython",
    "version": 3
   },
   "file_extension": ".py",
   "mimetype": "text/x-python",
   "name": "python",
   "nbconvert_exporter": "python",
   "pygments_lexer": "ipython3",
   "version": "3.9.1"
  }
 },
 "nbformat": 4,
 "nbformat_minor": 4
}
